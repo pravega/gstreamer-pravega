{
 "cells": [
  {
   "cell_type": "code",
   "execution_count": null,
   "metadata": {},
   "outputs": [],
   "source": [
    "import re\n",
    "import pandas as pd\n",
    "import itertools"
   ]
  },
  {
   "cell_type": "code",
   "execution_count": null,
   "metadata": {},
   "outputs": [],
   "source": [
    "regex = re.compile(\"\"\"([0-9:.]+) .* pt=([0-9]+), seqnum=([0-9]+), rtptime=([0-9]+)\"\"\")"
   ]
  },
  {
   "cell_type": "code",
   "execution_count": null,
   "metadata": {},
   "outputs": [],
   "source": [
    "line = \"\"\"0:30:44.095474760 1664553 0x5613835cc120 DEBUG        rtpjitterbuffer gstrtpjitterbuffer.c:2902:gst_rtp_jitter_buffer_chain:<rtpjitterbuffer0> 00m pt=97, seqnum=11642, rtptime=11642\"\"\"\n",
    "regex.match(line)"
   ]
  },
  {
   "cell_type": "code",
   "execution_count": null,
   "metadata": {},
   "outputs": [],
   "source": [
    "regex_identity = re.compile(\"\"\".*GstIdentity:([^: ]+): .* chain.* pts: ([0-9]+):([0-9]+):([0-9]+)\\.([0-9]+).*\"\"\")\n",
    "line = \"\"\"/GstPipeline:pipeline0/GstIdentity:identity-from-rtspsrc: last-message = chain   ******* (identity-from-rtspsrc:sink) (15 bytes, dts: none, pts: 0:00:00.000000000, duration: none, offset: -1, offset_end: -1, flags: 00004040 discont tag-memory , meta: none) 0x55ea3d1f87e0\"\"\"\n",
    "regex_identity.match(line)"
   ]
  },
  {
   "cell_type": "code",
   "execution_count": null,
   "metadata": {},
   "outputs": [],
   "source": [
    "# Create log file with rtsp-camera-to-fakesink-rtptime.log.\n",
    "# Requires gstrtpjitterbuffer.c with customized logging in gst_rtp_jitter_buffer_chain().\n",
    "#   GST_DEBUG_OBJECT (jitterbuffer, \"pt=%d, seqnum=%d, rtptime=%d\", pt, seqnum, rtptime);\n",
    "\n",
    "# logfile = '../../../tmp/rtptime.log'\n",
    "logfile = '../../../tmp/rtsp-camera-to-fakesink-rtptime.log'"
   ]
  },
  {
   "cell_type": "code",
   "execution_count": null,
   "metadata": {},
   "outputs": [],
   "source": [
    "%%time\n",
    "data = []\n",
    "data_identity = []\n",
    "with open(logfile) as f:\n",
    "    for line in itertools.islice(f, 0, int(1e10)):\n",
    "        m = regex.match(line)\n",
    "        if m:\n",
    "            logtime = m.group(1)\n",
    "            pt = int(m.group(2))\n",
    "            seqnum = int(m.group(3))\n",
    "            rtptime = int(m.group(4))            \n",
    "            data += [(logtime, pt, seqnum, rtptime)]\n",
    "        m = regex_identity.match(line)\n",
    "        if m:\n",
    "            element = m.group(1)\n",
    "            hours = int(m.group(2))\n",
    "            minutes = int(m.group(3))\n",
    "            seconds = int(m.group(4))\n",
    "            nanos = int(m.group(5))\n",
    "            pts = ((hours * 60 + minutes) * 60 + seconds) * int(1e9) + nanos\n",
    "            data_identity += [(element, pts, line)]"
   ]
  },
  {
   "cell_type": "code",
   "execution_count": null,
   "metadata": {},
   "outputs": [],
   "source": [
    "len(data), len(data_identity)"
   ]
  },
  {
   "cell_type": "code",
   "execution_count": null,
   "metadata": {},
   "outputs": [],
   "source": [
    "df = pd.DataFrame(data, columns=['logtime','pt','seqnum','rtptime'])"
   ]
  },
  {
   "cell_type": "code",
   "execution_count": null,
   "metadata": {},
   "outputs": [],
   "source": [
    "df"
   ]
  },
  {
   "cell_type": "code",
   "execution_count": null,
   "metadata": {},
   "outputs": [],
   "source": [
    "df.pt.value_counts()"
   ]
  },
  {
   "cell_type": "code",
   "execution_count": null,
   "metadata": {},
   "outputs": [],
   "source": [
    "vdf = df[df.pt==96]"
   ]
  },
  {
   "cell_type": "code",
   "execution_count": null,
   "metadata": {},
   "outputs": [],
   "source": [
    "vdf[['rtptime']].plot();"
   ]
  },
  {
   "cell_type": "code",
   "execution_count": null,
   "metadata": {},
   "outputs": [],
   "source": [
    "pd.set_option('display.max_rows', 50)"
   ]
  },
  {
   "cell_type": "code",
   "execution_count": null,
   "metadata": {},
   "outputs": [],
   "source": [
    "diff = vdf.rtptime.diff()\n",
    "diff[diff != 0][:30]"
   ]
  },
  {
   "cell_type": "code",
   "execution_count": null,
   "metadata": {},
   "outputs": [],
   "source": [
    "vdf.rtptime.diff().value_counts()"
   ]
  },
  {
   "cell_type": "code",
   "execution_count": null,
   "metadata": {},
   "outputs": [],
   "source": [
    "(vdf.rtptime.diff() / 90000).value_counts()"
   ]
  },
  {
   "cell_type": "code",
   "execution_count": null,
   "metadata": {},
   "outputs": [],
   "source": [
    "df_identity = pd.DataFrame(data_identity, columns=['element','pts','line'])"
   ]
  },
  {
   "cell_type": "code",
   "execution_count": null,
   "metadata": {},
   "outputs": [],
   "source": [
    "df_identity"
   ]
  },
  {
   "cell_type": "code",
   "execution_count": null,
   "metadata": {},
   "outputs": [],
   "source": [
    "df_identity['diff'] = df_identity[df_identity.element==\"identity-from-rtspsrc\"].pts.diff()"
   ]
  },
  {
   "cell_type": "code",
   "execution_count": null,
   "metadata": {},
   "outputs": [],
   "source": [
    "df_identity"
   ]
  },
  {
   "cell_type": "code",
   "execution_count": null,
   "metadata": {},
   "outputs": [],
   "source": [
    "(df_identity[df_identity.element==\"identity-from-rtspsrc\"].pts.diff() * 1e-9).value_counts()"
   ]
  },
  {
   "cell_type": "code",
   "execution_count": null,
   "metadata": {},
   "outputs": [],
   "source": [
    "df_identity['diff'].value_counts()"
   ]
  },
  {
   "cell_type": "code",
   "execution_count": null,
   "metadata": {},
   "outputs": [],
   "source": [
    "s = df_identity['line']"
   ]
  },
  {
   "cell_type": "code",
   "execution_count": null,
   "metadata": {},
   "outputs": [],
   "source": [
    "s.str.contains('resync')"
   ]
  },
  {
   "cell_type": "code",
   "execution_count": null,
   "metadata": {},
   "outputs": [],
   "source": [
    "df_identity.line.contains('resync')"
   ]
  },
  {
   "cell_type": "code",
   "execution_count": null,
   "metadata": {},
   "outputs": [],
   "source": [
    "df_identity[df_identity.line.str.contains('resync')]"
   ]
  },
  {
   "cell_type": "code",
   "execution_count": null,
   "metadata": {},
   "outputs": [],
   "source": [
    "df_identity[(df_identity['diff'] != 0) & (df_identity['diff'] != 50000000) & ~df_identity['diff'].isna()]"
   ]
  },
  {
   "cell_type": "code",
   "execution_count": null,
   "metadata": {},
   "outputs": [],
   "source": [
    "pd.set_option('display.max_colwidth', None)\n",
    "df_identity[df_identity['diff']]\n",
    "#(df_identity['diff'] * 1e-9).value_counts()"
   ]
  },
  {
   "cell_type": "code",
   "execution_count": null,
   "metadata": {},
   "outputs": [],
   "source": []
  }
 ],
 "metadata": {
  "kernelspec": {
   "display_name": "Python 3",
   "language": "python",
   "name": "python3"
  },
  "language_info": {
   "codemirror_mode": {
    "name": "ipython",
    "version": 3
   },
   "file_extension": ".py",
   "mimetype": "text/x-python",
   "name": "python",
   "nbconvert_exporter": "python",
   "pygments_lexer": "ipython3",
   "version": "3.8.5"
  }
 },
 "nbformat": 4,
 "nbformat_minor": 4
}
