{
    "cells": [
     {
      "cell_type": "code",
      "execution_count": null,
      "metadata": {},
      "outputs": [],
      "source": [
       "import re\n",
       "import numpy as np\n",
       "import pandas as pd\n",
       "import json\n",
       "import glob"
      ]
     },
     {
      "cell_type": "code",
      "execution_count": null,
      "metadata": {},
      "outputs": [],
      "source": [
       "pd.set_option('display.max_rows', 300)\n",
       "pd.set_option('display.max_columns', 50)"
      ]
     },
     {
      "cell_type": "code",
      "execution_count": null,
      "metadata": {},
      "outputs": [],
      "source": [
       "input_filespecs = [\n",
       "    \"../../../mnt/lab9-isilon/shared/eaglemonk/examples-data-project-pvc-*/test-logs/*_longevity-test-*.log\",\n",
       "#     \"../../../tmp/test-longevity-camera-claudio-04.log\",\n",
       "]"
      ]
     },
     {
      "cell_type": "code",
      "execution_count": null,
      "metadata": {},
      "outputs": [],
      "source": [
       "records = []\n",
       "for input_filespec in input_filespecs:\n",
       "    for input_filename in sorted(glob.glob(input_filespec)):\n",
       "        print(input_filename)\n",
       "        with open(input_filename) as file:\n",
       "            for line in file:\n",
       "                m = re.match('{.*', line)\n",
       "                if m:\n",
       "                    rec1 = json.loads(line)\n",
       "                    rec = rec1['fields'] \n",
       "                    rec['level'] = rec1['level']\n",
       "                    rec['target'] = rec1['target']\n",
       "                    records += [rec]"
      ]
     },
     {
      "cell_type": "code",
      "execution_count": null,
      "metadata": {},
      "outputs": [],
      "source": [
       "df = pd.DataFrame(records)\n",
       "if \"pts\" not in df:\n",
       "    df[\"pts\"] = np.nan\n",
       "if \"prev_pts\" not in df:\n",
       "    df[\"prev_pts\"] = np.nan\n",
       "if \"time_delta\" not in df:\n",
       "    df[\"time_delta\"] = np.nan\n",
       "df[\"min_pts\"] = pd.to_datetime(df[\"min_pts\"], errors=\"coerce\")\n",
       "df[\"max_pts\"] = pd.to_datetime(df[\"max_pts\"], errors=\"coerce\")\n",
       "df[\"pts\"] = pd.to_datetime(df[\"pts\"], errors=\"coerce\")\n",
       "df[\"prev_pts\"] = pd.to_datetime(df[\"prev_pts\"], errors=\"coerce\")\n",
       "df[\"ms_from_prev\"] = df.pts.diff() / pd.Timedelta(1, \"millisecond\")"
      ]
     },
     {
      "cell_type": "code",
      "execution_count": null,
      "metadata": {},
      "outputs": [],
      "source": [
       "df.info()"
      ]
     },
     {
      "cell_type": "code",
      "execution_count": null,
      "metadata": {},
      "outputs": [],
      "source": [
       "df.head(4)"
      ]
     },
     {
      "cell_type": "code",
      "execution_count": null,
      "metadata": {},
      "outputs": [],
      "source": [
       "stats = df[df.description.isin([\"statistics\"])].groupby([\"stream\", \"probe_name\"]).last()"
      ]
     },
     {
      "cell_type": "code",
      "execution_count": null,
      "metadata": {},
      "outputs": [],
      "source": [
       "pd.Timestamp.utcnow() - stats[[\"min_pts\", \"max_pts\"]]"
      ]
     },
     {
      "cell_type": "code",
      "execution_count": null,
      "metadata": {},
      "outputs": [],
      "source": [
       "stats[(stats.pts_missing_count>0) | \n",
       "      (stats.pts_decreasing_count>0) | \n",
       "      (stats.corrupted_count>0) | \n",
       "      (stats.discontinuity_count>100) | \n",
       "      (stats.idle_count>5)\n",
       "     ].T"
      ]
     },
     {
      "cell_type": "code",
      "execution_count": null,
      "metadata": {},
      "outputs": [],
      "source": [
       "df[df.description.isin([\"statistics\"])].groupby([\"stream\", \"probe_name\"]).last().T"
      ]
     },
     {
      "cell_type": "code",
      "execution_count": null,
      "metadata": {},
      "outputs": [],
      "source": [
       "df.groupby([\"stream\", \"description\"]).size()"
      ]
     },
     {
      "cell_type": "code",
      "execution_count": null,
      "metadata": {},
      "outputs": [],
      "source": [
       "df[df.level.isin([\"WARN\",\"DEBUG\"])].groupby([\"stream\", \"description\", \"probe_name\"]).size()"
      ]
     },
     {
      "cell_type": "code",
      "execution_count": null,
      "metadata": {},
      "outputs": [],
      "source": [
       "df[df.description.isin([\"Gap in PTS is too large\"])][[\"time_delta\", \"probe_name\"]].value_counts().sort_index()"
      ]
     },
     {
      "cell_type": "code",
      "execution_count": null,
      "metadata": {},
      "outputs": [],
      "source": [
       "df[df.description.isin([\"PTS is missing\"])][[\"pts\", \"time_delta\", \"probe_name\"]]"
      ]
     },
     {
      "cell_type": "code",
      "execution_count": null,
      "metadata": {},
      "outputs": [],
      "source": [
       "df[df.description.isin([\"PTS is decreasing\"])][[\"pts\", \"time_delta\", \"probe_name\"]]"
      ]
     },
     {
      "cell_type": "code",
      "execution_count": null,
      "metadata": {},
      "outputs": [],
      "source": [
       "df.iloc[300:400][df.probe_name.isin([\"1-pravegasrc\"])][[\"pts\", \"ms_from_prev\", \"prev_pts\", \"time_delta\", \"probe_name\", \"flags\", \"size\", \"description\"]]"
      ]
     },
     {
      "cell_type": "code",
      "execution_count": null,
      "metadata": {},
      "outputs": [],
      "source": [
       "df2 = df[df.description.isin([\"buffer\"]) & df.probe_name.isin([\"1-pravegasrc\"])].copy()"
      ]
     },
     {
      "cell_type": "code",
      "execution_count": null,
      "metadata": {},
      "outputs": [],
      "source": [
       "df2[\"ms_from_prev\"] = df2.pts.diff() / pd.Timedelta(1, \"millisecond\")"
      ]
     },
     {
      "cell_type": "code",
      "execution_count": null,
      "metadata": {},
      "outputs": [],
      "source": [
       "df2[[\"pts\", \"ms_from_prev\", \"element\", \"pad\", \"flags\", \"size\", \"description\"]].head(200)"
      ]
     },
     {
      "cell_type": "code",
      "execution_count": null,
      "metadata": {},
      "outputs": [],
      "source": [
       "df2.ms_from_prev.value_counts()"
      ]
     },
     {
      "cell_type": "code",
      "execution_count": null,
      "metadata": {},
      "outputs": [],
      "source": [
       "df2 = df[df.description.isin([\"buffer\"]) & ((df.element==\"pravegasrc\") | ((df.element==\"h264parse\") & (df[\"pad\"]==\"sink\")))].copy()"
      ]
     },
     {
      "cell_type": "code",
      "execution_count": null,
      "metadata": {},
      "outputs": [],
      "source": [
       "df2[\"ms_from_prev\"] = df2.pts.diff() / pd.Timedelta(1, \"millisecond\")"
      ]
     },
     {
      "cell_type": "code",
      "execution_count": null,
      "metadata": {},
      "outputs": [],
      "source": [
       "df2[[\"pts\", \"ms_from_prev\", \"element\", \"pad\", \"flags\", \"size\", \"description\"]].head(200)"
      ]
     },
     {
      "cell_type": "code",
      "execution_count": null,
      "metadata": {},
      "outputs": [],
      "source": [
       "df2[df2.element==\"h264parse\"].ms_from_prev.value_counts()"
      ]
     },
     {
      "cell_type": "code",
      "execution_count": null,
      "metadata": {},
      "outputs": [],
      "source": [
       "df2.ms_from_prev.value_counts()"
      ]
     },
     {
      "cell_type": "code",
      "execution_count": null,
      "metadata": {},
      "outputs": [],
      "source": []
     }
    ],
    "metadata": {
     "kernelspec": {
      "display_name": "Python 3",
      "language": "python",
      "name": "python3"
     },
     "language_info": {
      "codemirror_mode": {
       "name": "ipython",
       "version": 3
      },
      "file_extension": ".py",
      "mimetype": "text/x-python",
      "name": "python",
      "nbconvert_exporter": "python",
      "pygments_lexer": "ipython3",
      "version": "3.8.5"
     }
    },
    "nbformat": 4,
    "nbformat_minor": 4
   }   